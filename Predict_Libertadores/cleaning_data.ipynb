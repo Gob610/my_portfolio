{
 "cells": [
  {
   "cell_type": "code",
   "execution_count": 1,
   "metadata": {},
   "outputs": [],
   "source": [
    "import pandas as pd"
   ]
  },
  {
   "cell_type": "code",
   "execution_count": 28,
   "metadata": {},
   "outputs": [],
   "source": [
    "df_historical = pd.read_csv('historial.csv')\n",
    "\n",
    "df_historical['Local'] = df_historical['Local'].replace('Vélez Sársfield', 'Vélez Sarsfield')\n",
    "df_historical['Local'] = df_historical['Local'].replace('Velez Sársfield', 'Vélez Sarsfield')\n",
    "df_historical['Local'] = df_historical['Local'].replace('(v.) Nacional', 'Nacional')\n",
    "df_historical['Local'] = df_historical['Local'].replace('Guaraní', 'Guarani')\n",
    "df_historical['Local'] = df_historical['Local'].replace('Grêmio', 'Gremio')\n",
    "\n",
    "df_historical['Visitante'] = df_historical['Visitante'].replace('Vélez Sársfield', 'Vélez Sarsfield')\n",
    "df_historical['Visitante'] = df_historical['Visitante'].replace('Velez Sársfield', 'Vélez Sarsfield')\n",
    "df_historical['Visitante'] = df_historical['Visitante'].replace('(v.) Nacional', 'Nacional')\n",
    "df_historical['Visitante'] = df_historical['Visitante'].replace('Guaraní', 'Guarani')\n",
    "df_historical['Visitante'] = df_historical['Visitante'].replace('Grêmio', 'Gremio')\n",
    "\n",
    "df_historical['year'] = df_historical['year'].astype('object')\n",
    "\n",
    "# Funcion para normalizar fechas\n",
    "def convertir_fecha(fecha):\n",
    "  partes = fecha.split()[:3]\n",
    "  fecha_formateada = ' '.join(partes).rstrip(',')\n",
    "  return fecha_formateada\n",
    "\n",
    "df_historical['Fecha'] = df_historical['Fecha'].apply(convertir_fecha)\n",
    "df_historical = df_historical[df_historical['Ubicacion'] != '—']\n",
    "df_historical = df_historical[df_historical['Ubicacion'] != '–']\n",
    "\n",
    "df_historical['Resultado'] = df_historical['Resultado'].replace('\\[.*?\\]', '', regex=True).str.strip()\n",
    "df_historical['Resultado'] = df_historical['Resultado'].str.slice(0,3)\n",
    "\n",
    "df_historical['Local'] = df_historical['Local'].str.strip()\n",
    "df_historical['Visitante'] = df_historical['Visitante'].str.strip()\n",
    "\n",
    "df_historical[['HomeGoals', 'AwayGoals']] = df_historical['Resultado'].str.split(':', expand=True)\n",
    "indices_resultado_01 = df_historical.loc[df_historical['Resultado'] == '0ː1'].index\n",
    "df_historical = df_historical.drop(indices_resultado_01)\n",
    "\n",
    "df_historical.drop('Resultado', axis=1, inplace=True)\n",
    "\n",
    "df_historical['HomeGoals'] = df_historical['HomeGoals'].astype('int')\n",
    "df_historical['AwayGoals'] = df_historical['AwayGoals'].astype('int')\n",
    "\n",
    "df_historical.to_csv('historial_cleaning.csv', index=None)"
   ]
  },
  {
   "cell_type": "code",
   "execution_count": 32,
   "metadata": {},
   "outputs": [],
   "source": [
    "df_fixture_cln = pd.read_csv('fixture.csv')\n",
    "df_fixture_cln['Fecha'] = df_fixture_cln['Fecha'].apply(convertir_fecha)\n",
    "df_fixture_cln.to_csv('fixture_cleaned.csv', index=None)"
   ]
  }
 ],
 "metadata": {
  "kernelspec": {
   "display_name": "Python 3",
   "language": "python",
   "name": "python3"
  },
  "language_info": {
   "codemirror_mode": {
    "name": "ipython",
    "version": 3
   },
   "file_extension": ".py",
   "mimetype": "text/x-python",
   "name": "python",
   "nbconvert_exporter": "python",
   "pygments_lexer": "ipython3",
   "version": "3.11.2"
  },
  "orig_nbformat": 4
 },
 "nbformat": 4,
 "nbformat_minor": 2
}
