{
 "cells": [
  {
   "cell_type": "code",
   "execution_count": 1,
   "metadata": {},
   "outputs": [],
   "source": [
    "# Importaciones\n",
    "from bs4 import BeautifulSoup\n",
    "import requests\n",
    "import pandas as pd\n",
    "import numpy as np"
   ]
  },
  {
   "cell_type": "code",
   "execution_count": 2,
   "metadata": {},
   "outputs": [],
   "source": [
    "years = [1980,1981,1982,1983,1984,1985,1986,1987,1988,1999,2000,2001,2002,2003,2004,2005,2006,2007,2008,2009,2010,2011,2012,2013,2014,2015,2016,2017,2018,2019,2020,2021,2022]"
   ]
  },
  {
   "cell_type": "code",
   "execution_count": 3,
   "metadata": {},
   "outputs": [],
   "source": [
    "def get_year(year):\n",
    "  # Crear el dataframe\n",
    "  df = pd.DataFrame(columns=['Fecha','Ubicacion','Local','Resultado','Visitante'])\n",
    "  web = f'https://es.wikipedia.org/wiki/Copa_Libertadores_{year}'\n",
    "  response = requests.get(web)\n",
    "  content = response.text\n",
    "  soup = BeautifulSoup(content, 'lxml')\n",
    "\n",
    "  tables = soup.find_all('table', {'class':'wikitable collapsible collapsed'})\n",
    "\n",
    "  for table in tables:\n",
    "    games = table.find_all('tr', align='center')\n",
    "    for i in range(len(games)):\n",
    "      resume_game = games[i].get_text().splitlines()\n",
    "      resume_game = [elemento for elemento in resume_game if elemento != '']\n",
    "      if len(resume_game) == 5:\n",
    "        df.loc[len(df)] = resume_game\n",
    "\n",
    "  final = soup.find_all('table', {'class':'collapsible autocollapse vevent plainlist'})\n",
    "\n",
    "  for instance in final:\n",
    "    a = [e for e in instance.get_text().splitlines() if e != '']\n",
    "    # Solo seleccionar la data necesaria\n",
    "    a = a[:5]\n",
    "    # Cambiar de lugar la ubicacion del partido\n",
    "    aux = a.pop(4)\n",
    "    a.insert(1,aux)\n",
    "    # Eliminar todo lo de antes de la coma\n",
    "    a[1] = a[1].split(',')[1].strip()\n",
    "    # Eliminar espacios vacios\n",
    "    for i in range(5):\n",
    "      a[i] = a[i].strip()\n",
    "    # Eliminar resultado global\n",
    "    a[3] = a[3].split('(')[0].strip()\n",
    "    df.loc[len(df)] = a\n",
    "  # Agregar esa ultima columna llamada year\n",
    "  df['year'] = year\n",
    "  return df\n",
    "\n",
    "# Ejecutar la funcion\n",
    "fifa = [get_year(year) for year in years]\n",
    "df_fifa = pd.concat(fifa, ignore_index=True)\n",
    "\n",
    "# Fixture de la libertadores actual\n",
    "fixture = get_year(2023)"
   ]
  },
  {
   "cell_type": "code",
   "execution_count": 3,
   "metadata": {},
   "outputs": [],
   "source": [
    "df_fifa.to_csv('historial.csv', index=False)\n",
    "fixture.to_csv('fixture.csv', index=False)"
   ]
  }
 ],
 "metadata": {
  "kernelspec": {
   "display_name": "Python 3",
   "language": "python",
   "name": "python3"
  },
  "language_info": {
   "codemirror_mode": {
    "name": "ipython",
    "version": 3
   },
   "file_extension": ".py",
   "mimetype": "text/x-python",
   "name": "python",
   "nbconvert_exporter": "python",
   "pygments_lexer": "ipython3",
   "version": "3.11.2"
  },
  "orig_nbformat": 4
 },
 "nbformat": 4,
 "nbformat_minor": 2
}
