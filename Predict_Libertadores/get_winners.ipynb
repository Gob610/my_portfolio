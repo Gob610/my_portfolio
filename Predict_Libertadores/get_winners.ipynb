{
 "cells": [
  {
   "cell_type": "code",
   "execution_count": 2,
   "metadata": {},
   "outputs": [],
   "source": [
    "import pandas as pd\n",
    "import pickle\n",
    "from scipy.stats import poisson"
   ]
  },
  {
   "cell_type": "code",
   "execution_count": 3,
   "metadata": {},
   "outputs": [],
   "source": [
    "df_historical = pd.read_csv('historial_cleaning.csv')\n",
    "df_fixture_cleaned = pd.read_csv('fixture_cleaned.csv')\n",
    "dict_table = pickle.load(open('groups_file','rb'))"
   ]
  },
  {
   "cell_type": "code",
   "execution_count": 4,
   "metadata": {},
   "outputs": [],
   "source": [
    "df_home = df_historical[['Local','HomeGoals','AwayGoals']]\n",
    "df_away = df_historical[['Visitante','HomeGoals','AwayGoals']]"
   ]
  },
  {
   "cell_type": "code",
   "execution_count": 5,
   "metadata": {},
   "outputs": [],
   "source": [
    "df_home = df_home.rename(columns={'Local':'Team','HomeGoals':'GoalsScored','AwayGoals':'GoalsConceded'})\n",
    "df_away = df_away.rename(columns={'Visitante': 'Team','HomeGoals':'GoalsConceded','AwayGoals':'GoalsScored'})"
   ]
  },
  {
   "cell_type": "code",
   "execution_count": 6,
   "metadata": {},
   "outputs": [],
   "source": [
    "team_strength = pd.concat([df_home, df_away], ignore_index=True).groupby('Team').mean()"
   ]
  },
  {
   "cell_type": "code",
   "execution_count": 7,
   "metadata": {},
   "outputs": [],
   "source": [
    "def predict_points(home,away):\n",
    "  if home in team_strength.index and away in team_strength.index:\n",
    "    lamb_home = team_strength.at[home,'GoalsScored'] * team_strength.at[away,'GoalsConceded']\n",
    "    lamb_away = team_strength.at[away,'GoalsScored'] * team_strength.at[home,'GoalsConceded']\n",
    "    prob_home,prob_away,prob_draw = 0,0,0\n",
    "    for x in range(0,11):\n",
    "      for y in range(0,11):\n",
    "        p = poisson.pmf(x,lamb_home) * poisson.pmf(y,lamb_away)\n",
    "        if x == y:\n",
    "          prob_draw += p\n",
    "        elif x > y:\n",
    "          prob_home += p\n",
    "        else:\n",
    "          prob_away += p\n",
    "    points_home = (3 * prob_home + prob_draw)\n",
    "    points_away = (3 * prob_away + prob_draw)\n",
    "    return (points_home, points_away)\n",
    "  else:\n",
    "    return (0,0)"
   ]
  },
  {
   "cell_type": "code",
   "execution_count": 8,
   "metadata": {},
   "outputs": [],
   "source": [
    "for group in dict_table:\n",
    "  teams_in_group = dict_table[group]['Equipo'].values\n",
    "  for i in range(4):\n",
    "    for j in range(4):\n",
    "      if i != j:\n",
    "        points_home, points_away = predict_points(teams_in_group[i],teams_in_group[j])\n",
    "        dict_table[group].loc[dict_table[group]['Equipo'] == teams_in_group[i], 'Pts.'] +=  points_home\n",
    "        dict_table[group].loc[dict_table[group]['Equipo'] == teams_in_group[j], 'Pts.'] +=  points_away\n",
    "  dict_table[group] = dict_table[group].sort_values('Pts.', ascending=False).reset_index()\n",
    "  dict_table[group] = dict_table[group][['Equipo','Pts.']]"
   ]
  },
  {
   "cell_type": "code",
   "execution_count": 9,
   "metadata": {},
   "outputs": [
    {
     "data": {
      "text/html": [
       "<div>\n",
       "<style scoped>\n",
       "    .dataframe tbody tr th:only-of-type {\n",
       "        vertical-align: middle;\n",
       "    }\n",
       "\n",
       "    .dataframe tbody tr th {\n",
       "        vertical-align: top;\n",
       "    }\n",
       "\n",
       "    .dataframe thead th {\n",
       "        text-align: right;\n",
       "    }\n",
       "</style>\n",
       "<table border=\"1\" class=\"dataframe\">\n",
       "  <thead>\n",
       "    <tr style=\"text-align: right;\">\n",
       "      <th></th>\n",
       "      <th>Team1</th>\n",
       "      <th>Team2</th>\n",
       "      <th>Winner</th>\n",
       "    </tr>\n",
       "  </thead>\n",
       "  <tbody>\n",
       "    <tr>\n",
       "      <th>0</th>\n",
       "      <td>Flamengo</td>\n",
       "      <td>Nacional</td>\n",
       "      <td>NaN</td>\n",
       "    </tr>\n",
       "    <tr>\n",
       "      <th>1</th>\n",
       "      <td>Internacional</td>\n",
       "      <td>Racing Club</td>\n",
       "      <td>NaN</td>\n",
       "    </tr>\n",
       "    <tr>\n",
       "      <th>2</th>\n",
       "      <td>Palmeiras</td>\n",
       "      <td>Fluminense</td>\n",
       "      <td>NaN</td>\n",
       "    </tr>\n",
       "    <tr>\n",
       "      <th>3</th>\n",
       "      <td>River Plate</td>\n",
       "      <td>Cerro Porteño</td>\n",
       "      <td>NaN</td>\n",
       "    </tr>\n",
       "    <tr>\n",
       "      <th>4</th>\n",
       "      <td>Corinthians</td>\n",
       "      <td>Colo-Colo</td>\n",
       "      <td>NaN</td>\n",
       "    </tr>\n",
       "    <tr>\n",
       "      <th>5</th>\n",
       "      <td>Boca Juniors</td>\n",
       "      <td>Argentinos Juniors</td>\n",
       "      <td>NaN</td>\n",
       "    </tr>\n",
       "    <tr>\n",
       "      <th>6</th>\n",
       "      <td>Atlético Mineiro</td>\n",
       "      <td>Olimpia</td>\n",
       "      <td>NaN</td>\n",
       "    </tr>\n",
       "    <tr>\n",
       "      <th>7</th>\n",
       "      <td>Atlético Nacional</td>\n",
       "      <td>Athletico Paranaense</td>\n",
       "      <td>NaN</td>\n",
       "    </tr>\n",
       "  </tbody>\n",
       "</table>\n",
       "</div>"
      ],
      "text/plain": [
       "               Team1                 Team2 Winner\n",
       "0           Flamengo              Nacional    NaN\n",
       "1      Internacional           Racing Club    NaN\n",
       "2          Palmeiras            Fluminense    NaN\n",
       "3        River Plate         Cerro Porteño    NaN\n",
       "4        Corinthians             Colo-Colo    NaN\n",
       "5       Boca Juniors    Argentinos Juniors    NaN\n",
       "6   Atlético Mineiro               Olimpia    NaN\n",
       "7  Atlético Nacional  Athletico Paranaense    NaN"
      ]
     },
     "execution_count": 9,
     "metadata": {},
     "output_type": "execute_result"
    }
   ],
   "source": [
    "df_octavos = pd.DataFrame(columns=['Team1','Team2','Winner'])\n",
    "group_winners = []\n",
    "group_runners = []\n",
    "for group in dict_table:\n",
    "  group_winners.append(dict_table[group]['Equipo'].iloc[0])\n",
    "  group_runners.append(dict_table[group]['Equipo'].iloc[1])\n",
    "# Definir el patrón de intercambio usando operaciones matemáticas y sucesión\n",
    "patron = lambda i: (i + 1) if i % 2 == 0 else (i - 1)\n",
    "group_runners = [group_runners[patron(i)] for i in range(len(group_runners))]\n",
    "\n",
    "\n",
    "df_octavos['Team1'] = group_winners\n",
    "df_octavos['Team2'] = group_runners\n",
    "df_octavos"
   ]
  },
  {
   "cell_type": "code",
   "execution_count": 15,
   "metadata": {},
   "outputs": [
    {
     "name": "stdout",
     "output_type": "stream",
     "text": [
      "Flamengo\n",
      "Internacional\n",
      "Palmeiras\n",
      "River Plate\n",
      "Corinthians\n",
      "Boca Juniors\n",
      "Atlético Mineiro\n",
      "Atlético Nacional\n"
     ]
    }
   ],
   "source": [
    "def get_winner_key(df):\n",
    "  for index, row in df.iterrows():\n",
    "    ida_local, ida_visitante = predict_points(row['Team1'],row['Team2'])\n",
    "    vuelta_local, vuelta_visitante = predict_points(row['Team2'], row['Team1'])\n",
    "    total_team1 = ida_local + vuelta_visitante\n",
    "    total_team2 = ida_visitante + vuelta_local\n",
    "    if total_team1 > total_team2:\n",
    "      winner = row['Team1']\n",
    "    else:\n",
    "      winner = row['Team2']\n",
    "    df.at[index, 'Winner'] = winner\n",
    "\n",
    "get_winner_key(df_octavos)"
   ]
  },
  {
   "cell_type": "code",
   "execution_count": 21,
   "metadata": {},
   "outputs": [
    {
     "data": {
      "text/html": [
       "<div>\n",
       "<style scoped>\n",
       "    .dataframe tbody tr th:only-of-type {\n",
       "        vertical-align: middle;\n",
       "    }\n",
       "\n",
       "    .dataframe tbody tr th {\n",
       "        vertical-align: top;\n",
       "    }\n",
       "\n",
       "    .dataframe thead th {\n",
       "        text-align: right;\n",
       "    }\n",
       "</style>\n",
       "<table border=\"1\" class=\"dataframe\">\n",
       "  <thead>\n",
       "    <tr style=\"text-align: right;\">\n",
       "      <th></th>\n",
       "      <th>Team1</th>\n",
       "      <th>Team2</th>\n",
       "      <th>Winner</th>\n",
       "    </tr>\n",
       "  </thead>\n",
       "  <tbody>\n",
       "    <tr>\n",
       "      <th>0</th>\n",
       "      <td>Flamengo</td>\n",
       "      <td>Nacional</td>\n",
       "      <td>Flamengo</td>\n",
       "    </tr>\n",
       "    <tr>\n",
       "      <th>1</th>\n",
       "      <td>Internacional</td>\n",
       "      <td>Racing Club</td>\n",
       "      <td>Internacional</td>\n",
       "    </tr>\n",
       "    <tr>\n",
       "      <th>2</th>\n",
       "      <td>Palmeiras</td>\n",
       "      <td>Fluminense</td>\n",
       "      <td>Palmeiras</td>\n",
       "    </tr>\n",
       "    <tr>\n",
       "      <th>3</th>\n",
       "      <td>River Plate</td>\n",
       "      <td>Cerro Porteño</td>\n",
       "      <td>River Plate</td>\n",
       "    </tr>\n",
       "    <tr>\n",
       "      <th>4</th>\n",
       "      <td>Corinthians</td>\n",
       "      <td>Colo-Colo</td>\n",
       "      <td>Corinthians</td>\n",
       "    </tr>\n",
       "    <tr>\n",
       "      <th>5</th>\n",
       "      <td>Boca Juniors</td>\n",
       "      <td>Argentinos Juniors</td>\n",
       "      <td>Boca Juniors</td>\n",
       "    </tr>\n",
       "    <tr>\n",
       "      <th>6</th>\n",
       "      <td>Atlético Mineiro</td>\n",
       "      <td>Olimpia</td>\n",
       "      <td>Atlético Mineiro</td>\n",
       "    </tr>\n",
       "    <tr>\n",
       "      <th>7</th>\n",
       "      <td>Atlético Nacional</td>\n",
       "      <td>Athletico Paranaense</td>\n",
       "      <td>Atlético Nacional</td>\n",
       "    </tr>\n",
       "  </tbody>\n",
       "</table>\n",
       "</div>"
      ],
      "text/plain": [
       "               Team1                 Team2             Winner\n",
       "0           Flamengo              Nacional           Flamengo\n",
       "1      Internacional           Racing Club      Internacional\n",
       "2          Palmeiras            Fluminense          Palmeiras\n",
       "3        River Plate         Cerro Porteño        River Plate\n",
       "4        Corinthians             Colo-Colo        Corinthians\n",
       "5       Boca Juniors    Argentinos Juniors       Boca Juniors\n",
       "6   Atlético Mineiro               Olimpia   Atlético Mineiro\n",
       "7  Atlético Nacional  Athletico Paranaense  Atlético Nacional"
      ]
     },
     "execution_count": 21,
     "metadata": {},
     "output_type": "execute_result"
    }
   ],
   "source": [
    "df_octavos"
   ]
  },
  {
   "cell_type": "code",
   "execution_count": 27,
   "metadata": {},
   "outputs": [
    {
     "name": "stdout",
     "output_type": "stream",
     "text": [
      "Internacional\n",
      "Palmeiras\n",
      "Boca Juniors\n",
      "Atlético Mineiro\n"
     ]
    },
    {
     "data": {
      "text/html": [
       "<div>\n",
       "<style scoped>\n",
       "    .dataframe tbody tr th:only-of-type {\n",
       "        vertical-align: middle;\n",
       "    }\n",
       "\n",
       "    .dataframe tbody tr th {\n",
       "        vertical-align: top;\n",
       "    }\n",
       "\n",
       "    .dataframe thead th {\n",
       "        text-align: right;\n",
       "    }\n",
       "</style>\n",
       "<table border=\"1\" class=\"dataframe\">\n",
       "  <thead>\n",
       "    <tr style=\"text-align: right;\">\n",
       "      <th></th>\n",
       "      <th>Team1</th>\n",
       "      <th>Team2</th>\n",
       "      <th>Winner</th>\n",
       "    </tr>\n",
       "  </thead>\n",
       "  <tbody>\n",
       "    <tr>\n",
       "      <th>0</th>\n",
       "      <td>Flamengo</td>\n",
       "      <td>Internacional</td>\n",
       "      <td>Internacional</td>\n",
       "    </tr>\n",
       "    <tr>\n",
       "      <th>1</th>\n",
       "      <td>Palmeiras</td>\n",
       "      <td>River Plate</td>\n",
       "      <td>Palmeiras</td>\n",
       "    </tr>\n",
       "    <tr>\n",
       "      <th>2</th>\n",
       "      <td>Corinthians</td>\n",
       "      <td>Boca Juniors</td>\n",
       "      <td>Boca Juniors</td>\n",
       "    </tr>\n",
       "    <tr>\n",
       "      <th>3</th>\n",
       "      <td>Atlético Mineiro</td>\n",
       "      <td>Atlético Nacional</td>\n",
       "      <td>Atlético Mineiro</td>\n",
       "    </tr>\n",
       "  </tbody>\n",
       "</table>\n",
       "</div>"
      ],
      "text/plain": [
       "              Team1              Team2            Winner\n",
       "0          Flamengo      Internacional     Internacional\n",
       "1         Palmeiras        River Plate         Palmeiras\n",
       "2       Corinthians       Boca Juniors      Boca Juniors\n",
       "3  Atlético Mineiro  Atlético Nacional  Atlético Mineiro"
      ]
     },
     "execution_count": 27,
     "metadata": {},
     "output_type": "execute_result"
    }
   ],
   "source": [
    "df_cuartos = pd.DataFrame(columns=['Team1','Team2','Winner'])\n",
    "\n",
    "def armar_key(df_pre,df_post):\n",
    "  for index,winner in df_pre['Winner'].items():\n",
    "    if index % 2 == 0:\n",
    "      df_post.loc[index // 2, 'Team1'] = winner\n",
    "    else:\n",
    "      df_post.loc[index // 2, 'Team2'] = winner\n",
    "\n",
    "armar_key(df_octavos,df_cuartos)\n",
    "get_winner_key(df_cuartos)\n",
    "df_cuartos"
   ]
  },
  {
   "cell_type": "code",
   "execution_count": 29,
   "metadata": {},
   "outputs": [
    {
     "name": "stdout",
     "output_type": "stream",
     "text": [
      "Palmeiras\n",
      "Boca Juniors\n"
     ]
    },
    {
     "data": {
      "text/html": [
       "<div>\n",
       "<style scoped>\n",
       "    .dataframe tbody tr th:only-of-type {\n",
       "        vertical-align: middle;\n",
       "    }\n",
       "\n",
       "    .dataframe tbody tr th {\n",
       "        vertical-align: top;\n",
       "    }\n",
       "\n",
       "    .dataframe thead th {\n",
       "        text-align: right;\n",
       "    }\n",
       "</style>\n",
       "<table border=\"1\" class=\"dataframe\">\n",
       "  <thead>\n",
       "    <tr style=\"text-align: right;\">\n",
       "      <th></th>\n",
       "      <th>Team1</th>\n",
       "      <th>Team2</th>\n",
       "      <th>Winner</th>\n",
       "    </tr>\n",
       "  </thead>\n",
       "  <tbody>\n",
       "    <tr>\n",
       "      <th>0</th>\n",
       "      <td>Internacional</td>\n",
       "      <td>Palmeiras</td>\n",
       "      <td>Palmeiras</td>\n",
       "    </tr>\n",
       "    <tr>\n",
       "      <th>1</th>\n",
       "      <td>Boca Juniors</td>\n",
       "      <td>Atlético Mineiro</td>\n",
       "      <td>Boca Juniors</td>\n",
       "    </tr>\n",
       "  </tbody>\n",
       "</table>\n",
       "</div>"
      ],
      "text/plain": [
       "           Team1             Team2        Winner\n",
       "0  Internacional         Palmeiras     Palmeiras\n",
       "1   Boca Juniors  Atlético Mineiro  Boca Juniors"
      ]
     },
     "execution_count": 29,
     "metadata": {},
     "output_type": "execute_result"
    }
   ],
   "source": [
    "df_semis = pd.DataFrame(columns=['Team1','Team2','Winner'])\n",
    "armar_key(df_cuartos,df_semis)\n",
    "get_winner_key(df_semis)\n",
    "df_semis"
   ]
  },
  {
   "cell_type": "code",
   "execution_count": 31,
   "metadata": {},
   "outputs": [
    {
     "name": "stdout",
     "output_type": "stream",
     "text": [
      "Palmeiras\n"
     ]
    },
    {
     "data": {
      "text/html": [
       "<div>\n",
       "<style scoped>\n",
       "    .dataframe tbody tr th:only-of-type {\n",
       "        vertical-align: middle;\n",
       "    }\n",
       "\n",
       "    .dataframe tbody tr th {\n",
       "        vertical-align: top;\n",
       "    }\n",
       "\n",
       "    .dataframe thead th {\n",
       "        text-align: right;\n",
       "    }\n",
       "</style>\n",
       "<table border=\"1\" class=\"dataframe\">\n",
       "  <thead>\n",
       "    <tr style=\"text-align: right;\">\n",
       "      <th></th>\n",
       "      <th>Team1</th>\n",
       "      <th>Team2</th>\n",
       "      <th>Winner</th>\n",
       "    </tr>\n",
       "  </thead>\n",
       "  <tbody>\n",
       "    <tr>\n",
       "      <th>0</th>\n",
       "      <td>Palmeiras</td>\n",
       "      <td>Boca Juniors</td>\n",
       "      <td>Palmeiras</td>\n",
       "    </tr>\n",
       "  </tbody>\n",
       "</table>\n",
       "</div>"
      ],
      "text/plain": [
       "       Team1         Team2     Winner\n",
       "0  Palmeiras  Boca Juniors  Palmeiras"
      ]
     },
     "execution_count": 31,
     "metadata": {},
     "output_type": "execute_result"
    }
   ],
   "source": [
    "df_final = pd.DataFrame(columns=['Team1', 'Team2', 'Winner'])\n",
    "armar_key(df_semis,df_final)\n",
    "get_winner_key(df_final)\n",
    "df_final"
   ]
  }
 ],
 "metadata": {
  "kernelspec": {
   "display_name": "Python 3",
   "language": "python",
   "name": "python3"
  },
  "language_info": {
   "codemirror_mode": {
    "name": "ipython",
    "version": 3
   },
   "file_extension": ".py",
   "mimetype": "text/x-python",
   "name": "python",
   "nbconvert_exporter": "python",
   "pygments_lexer": "ipython3",
   "version": "3.11.2"
  },
  "orig_nbformat": 4
 },
 "nbformat": 4,
 "nbformat_minor": 2
}
